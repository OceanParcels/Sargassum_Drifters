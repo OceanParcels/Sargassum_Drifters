{
 "cells": [
  {
   "cell_type": "code",
   "execution_count": 1,
   "metadata": {},
   "outputs": [
    {
     "name": "stdout",
     "output_type": "stream",
     "text": [
      "Populating the interactive namespace from numpy and matplotlib\n"
     ]
    }
   ],
   "source": [
    "%pylab inline\n",
    "from parcels import FieldSet, ParticleSet, JITParticle, Variable, AdvectionRK4\n",
    "import numpy as np\n",
    "import xarray as xr\n",
    "from datetime import timedelta as delta\n",
    "import matplotlib.pyplot as plt\n",
    "from collections import defaultdict"
   ]
  },
  {
   "cell_type": "code",
   "execution_count": 2,
   "metadata": {},
   "outputs": [
    {
     "name": "stdout",
     "output_type": "stream",
     "text": [
      "total\n"
     ]
    },
    {
     "name": "stderr",
     "output_type": "stream",
     "text": [
      "WARNING: Trying to initialize a shared grid with different chunking sizes - action prohibited. Replacing requested field_chunksize with grid's master chunksize.\n",
      "INFO: Compiled DrifterParticleAdvectionRK4AgeParticle ==> /var/folders/r2/8593q8z93kd7t4j9kbb_f7p00000gr/T/parcels-504/688bb5b894427a89a61cd2dd86eaf457_0.so\n",
      "INFO: Temporary output files are stored in /Users/erik/Desktop/SargassumData/out-PAVSVOQM.\n",
      "INFO: You can use \"parcels_convert_npydir_to_netcdf /Users/erik/Desktop/SargassumData/out-PAVSVOQM\" to convert these to a NetCDF file during the run.\n",
      " 21% (432000.0 of 2049540.0) |##         | Elapsed Time: 0:00:04 ETA:   0:01:07WARNING: Deleting particle because of bug in #749 and #737\n",
      " 34% (698400.0 of 2049540.0) |###        | Elapsed Time: 0:00:17 ETA:   0:01:11WARNING: time argument in pfile.write() is 767760.0, but particles have time [767880.]\n",
      " 61% (1263600.0 of 2049540.0) |######    | Elapsed Time: 0:00:52 ETA:   0:00:56WARNING: time argument in pfile.write() is 1332960.0, but particles have time [1333080.]\n",
      "100% (2049540.0 of 2049540.0) |##########| Elapsed Time: 0:02:00 Time:  0:02:00\n"
     ]
    },
    {
     "name": "stdout",
     "output_type": "stream",
     "text": [
      "curr\n"
     ]
    },
    {
     "name": "stderr",
     "output_type": "stream",
     "text": [
      "INFO: Compiled DrifterParticleAdvectionRK4AgeParticle ==> /var/folders/r2/8593q8z93kd7t4j9kbb_f7p00000gr/T/parcels-504/c8b23ccdcd33a3ca62a4d82a6f45dcf1_0.so\n",
      "INFO: Temporary output files are stored in /Users/erik/Desktop/SargassumData/out-IXQWIYRQ.\n",
      "INFO: You can use \"parcels_convert_npydir_to_netcdf /Users/erik/Desktop/SargassumData/out-IXQWIYRQ\" to convert these to a NetCDF file during the run.\n",
      "100% (2049540.0 of 2049540.0) |##########| Elapsed Time: 0:02:01 Time:  0:02:01\n"
     ]
    },
    {
     "name": "stdout",
     "output_type": "stream",
     "text": [
      "stokes\n"
     ]
    },
    {
     "name": "stderr",
     "output_type": "stream",
     "text": [
      "INFO: Compiled DrifterParticleAdvectionRK4AgeParticle ==> /var/folders/r2/8593q8z93kd7t4j9kbb_f7p00000gr/T/parcels-504/3df7d742d754d1c8dbfe7045c50faefb_0.so\n",
      "INFO: Temporary output files are stored in /Users/erik/Desktop/SargassumData/out-DHOUFPHN.\n",
      "INFO: You can use \"parcels_convert_npydir_to_netcdf /Users/erik/Desktop/SargassumData/out-DHOUFPHN\" to convert these to a NetCDF file during the run.\n",
      "100% (2049540.0 of 2049540.0) |##########| Elapsed Time: 0:01:58 Time:  0:01:58\n"
     ]
    },
    {
     "name": "stdout",
     "output_type": "stream",
     "text": [
      "tide\n"
     ]
    },
    {
     "name": "stderr",
     "output_type": "stream",
     "text": [
      "INFO: Compiled DrifterParticleAdvectionRK4AgeParticle ==> /var/folders/r2/8593q8z93kd7t4j9kbb_f7p00000gr/T/parcels-504/5fd15754dfc4db1d8311749b3f5d0cd2_0.so\n",
      "INFO: Temporary output files are stored in /Users/erik/Desktop/SargassumData/out-LGMZJNMP.\n",
      "INFO: You can use \"parcels_convert_npydir_to_netcdf /Users/erik/Desktop/SargassumData/out-LGMZJNMP\" to convert these to a NetCDF file during the run.\n",
      "100% (2049540.0 of 2049540.0) |##########| Elapsed Time: 0:01:58 Time:  0:01:58\n"
     ]
    }
   ],
   "source": [
    "vels ={'total': ['utotal', 'vtotal'], \n",
    "       'curr': ['uo', 'vo'], \n",
    "       'stokes': ['vsdx', 'vsdy'], \n",
    "       'tide': ['utide', 'vtide']}\n",
    "\n",
    "for veltype in vels:\n",
    "    print(veltype)\n",
    "    \n",
    "    variables = {'U': vels[veltype][0], 'V': vels[veltype][1]}\n",
    "    dimensions = {'lon': 'longitude', 'lat': 'latitude', 'time': 'time', 'depth': 'depth'}\n",
    "    fieldset = FieldSet.from_netcdf('/Users/erik/Desktop/SargassumData/TrAtlUV*.nc', variables, dimensions)\n",
    "\n",
    "    data = np.load('spottrajs_200508.npz', allow_pickle=True)\n",
    "    launch_lon = data['launch_lon'].item()\n",
    "    launch_lat = data['launch_lat'].item()\n",
    "    launch_times = data['launch_times'].item()\n",
    "    sets = data['sets']\n",
    "    for s in sets:\n",
    "        for i in s[1:]:\n",
    "            for var in [launch_lon, launch_lat, launch_times]:\n",
    "                del var[i]\n",
    "    launch_ids = list(launch_lon.keys())\n",
    "\n",
    "    def AgeParticle(particle, fieldset, time):\n",
    "        if particle.state == ErrorCode.Evaluate:\n",
    "            particle.age += math.fabs(particle.dt)\n",
    "        if particle.age > fieldset.maxage:\n",
    "            particle.delete()\n",
    "\n",
    "    class DrifterParticle(JITParticle):\n",
    "        age = Variable('age')\n",
    "        launch_id = Variable('launch_id', to_write='once')\n",
    "\n",
    "    pset = ParticleSet(fieldset, pclass=DrifterParticle, lon=list(launch_lon.values()),\n",
    "                       lat=list(launch_lat.values()), time=list(launch_times.values()), launch_id=launch_ids)\n",
    "\n",
    "    fieldset.maxage = delta(days=5).total_seconds()\n",
    "    runtime = (max(list(launch_times.values()))-min(list(launch_times.values()))).total_seconds() + fieldset.maxage\n",
    "\n",
    "    pfname = '/Users/erik/Desktop/SargassumData/sargassum_parcels_%s.nc' %veltype\n",
    "    pset.execute(pset.Kernel(AdvectionRK4)+AgeParticle, dt=delta(minutes=10), runtime=runtime,\n",
    "                 output_file=pset.ParticleFile(pfname, outputdt=delta(hours=1)))\n",
    "\n",
    "\n",
    "    pfile = xr.open_dataset(pfname, decode_cf=True)\n",
    "\n",
    "    sets = [list([int(s)]) for s in launch_ids]\n",
    "\n",
    "    lons = defaultdict(list)\n",
    "    lats = defaultdict(list)\n",
    "    dates = defaultdict(list)\n",
    "    ids = pfile.variables['launch_id']\n",
    "    for i in range(ids.shape[0]):\n",
    "        pid = int(ids[i].values)\n",
    "        lons[pid] = pfile.variables['lon'][i, :].values\n",
    "        lats[pid] = pfile.variables['lat'][i, :].values\n",
    "        dates[pid] = [datetime.datetime.utcfromtimestamp(d.astype('O')/1e9) for d in pfile.variables['time'][i, :].values if np.isfinite(d)]\n",
    "\n",
    "    file='parcelstrajs_%s.npz' % veltype\n",
    "    np.savez(file, lats=lats, lons=lons, dates=dates, sets=sets, \n",
    "             launch_lat=launch_lat, launch_lon=launch_lon, launch_times=launch_times)"
   ]
  },
  {
   "cell_type": "code",
   "execution_count": null,
   "metadata": {},
   "outputs": [],
   "source": []
  }
 ],
 "metadata": {
  "kernelspec": {
   "display_name": "Python 3",
   "language": "python",
   "name": "python3"
  },
  "language_info": {
   "codemirror_mode": {
    "name": "ipython",
    "version": 3
   },
   "file_extension": ".py",
   "mimetype": "text/x-python",
   "name": "python",
   "nbconvert_exporter": "python",
   "pygments_lexer": "ipython3",
   "version": "3.6.10"
  }
 },
 "nbformat": 4,
 "nbformat_minor": 4
}
